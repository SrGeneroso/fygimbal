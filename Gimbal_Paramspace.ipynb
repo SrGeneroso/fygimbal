{
 "cells": [
  {
   "cell_type": "code",
   "execution_count": null,
   "metadata": {},
   "outputs": [],
   "source": [
    "import fyproto\n",
    "from ipywidgets import interact"
   ]
  },
  {
   "cell_type": "code",
   "execution_count": null,
   "metadata": {},
   "outputs": [],
   "source": [
    "gimbal = fyproto.GimbalPort()"
   ]
  },
  {
   "cell_type": "markdown",
   "metadata": {},
   "source": [
    "• Power on the gimbal now (12V)"
   ]
  },
  {
   "cell_type": "code",
   "execution_count": null,
   "metadata": {},
   "outputs": [],
   "source": [
    "for i in (0,1,2):\n",
    "    def cb(results, i=i):\n",
    "        print(\"target=%d, %r\" % (i, results))\n",
    "    gimbal.getParamList( range(128), cb, target=i )"
   ]
  },
  {
   "cell_type": "code",
   "execution_count": 41,
   "metadata": {},
   "outputs": [
    {
     "name": "stdout",
     "output_type": "stream",
     "text": [
      "target=0, [0, 0, 514, 0, 0, 0, 127, 0, 0, -3041, 0, 0, 0, 0, 0, 0, 0, 0, 0, 0, 0, 1650, 1650, 0, 0, 0, 0, 0, 0, 0, 0, 0, 0, 0, 0, 0, 0, 0, 1, 0, -2784, 0, 0, 0, 2065, 0, 0, 0, 0, 0, 0, 0, 0, 0, 0, 0, 0, 0, 0, 0, 0, 0, 0, 0, 0, 0, 0, 0, 0, 0, 0, 0, 0, 0, 0, 0, -17851, 0, 0, 0, 0, 0, 0, 0, 0, 0, 0, 0, 0, 0, 0, 0, 0, 0, 0, 0, 0, 0, 0, 0, 0, 0, 0, 0, 0, 0, 0, 0, 0, 0, 0, 45, 32, 0, 0, 0, 0, 0, 0, 0, 0, 0, 0, 0, 0, 0, 0, 0]\n",
      "target=1, [0, 0, 514, 0, 0, 0, 127, 0, 0, 1088, 0, 0, 0, 0, 0, 0, 0, 0, 0, 0, 0, 1650, 1650, 0, 0, 0, 0, 0, 0, 0, 0, 0, 0, 0, 0, 0, 0, 0, 1, 0, -913, 0, 0, 0, 32, 0, 0, 0, 0, 0, 0, 0, 0, 0, 0, 0, 0, 0, 0, 0, 0, 0, 0, 0, 0, 0, 0, 0, 0, 0, 0, 0, 0, 0, 0, 0, 281, 0, 0, 0, 0, 0, 0, 0, 0, 0, 0, 0, 0, 0, 0, 0, 0, 0, 0, 0, 0, 0, 0, 0, 0, 0, 0, 0, 0, 0, 0, 0, 0, 0, 0, 42, 52, 0, 0, 0, 0, 0, 0, 0, 0, 0, 0, 0, 0, 0, 0, 0]\n",
      "target=2, [0, 0, 514, -600, 0, 0, -127, 0, 0, 7480, 0, 0, 0, 0, 0, 0, 0, 0, 0, 0, 0, 1650, 1650, 0, 0, 0, 0, 0, 0, 0, 0, 0, 0, 0, 0, 0, 0, 0, 1, 0, -28899, 0, 0, 0, 1515, 0, 0, 0, 0, 0, 0, 0, 0, 0, 0, 0, 0, 0, 0, 0, 0, 0, 0, 0, 0, 0, 0, 0, 0, 0, 0, 0, 0, 0, 0, 0, 0, 0, 0, 0, 0, 0, 0, 0, 0, 0, 0, 0, 0, 0, 0, 0, 0, 0, 0, 0, 0, 0, 0, 0, 0, 0, 0, 0, 0, 0, 0, 0, 0, 0, 0, 54, 48, 0, 0, 0, 0, 0, 0, 0, 0, 0, 0, 0, 0, 0, 0, 0]\n"
     ]
    }
   ],
   "source": [
    "for i in (0,1,2):\n",
    "    def cb(results, i=i):\n",
    "        print(\"target=%d, %r\" % (i, results))\n",
    "    gimbal.getParamList( range(128), cb, target=i )"
   ]
  },
  {
   "cell_type": "code",
   "execution_count": 31,
   "metadata": {},
   "outputs": [],
   "source": [
    "for i in (0,1,2):\n",
    "    for v in range(128):\n",
    "        gimbal.setParam(v, 0, target=i)"
   ]
  },
  {
   "cell_type": "code",
   "execution_count": 44,
   "metadata": {},
   "outputs": [
    {
     "name": "stdout",
     "output_type": "stream",
     "text": [
      "Response from saving, 00\n"
     ]
    }
   ],
   "source": [
    "gimbal.saveParams(0)"
   ]
  },
  {
   "cell_type": "code",
   "execution_count": 6,
   "metadata": {},
   "outputs": [],
   "source": [
    "# Enumerate all param values?\n",
    "def enumerateParams(number=0):\n",
    "    def setter(v):\n",
    "        gimbal.setParam(number, v)\n",
    "    def cb(value):\n",
    "        interact(setter, v=value)\n",
    "        print(\"param[%02x] = %d\\n\" % (number, value))\n",
    "        if number < 16:\n",
    "            enumerateParams(number+1)\n",
    "    gimbal.getParam(number, cb)\n",
    "#enumerateParams()"
   ]
  },
  {
   "cell_type": "code",
   "execution_count": 9,
   "metadata": {},
   "outputs": [],
   "source": [
    "# Power off motors\n",
    "\n",
    "for t in (2, 1, 0):\n",
    "    gimbal.send(fyproto.Packet(target=t, command=3, data=bytes([0])))"
   ]
  },
  {
   "cell_type": "code",
   "execution_count": 10,
   "metadata": {},
   "outputs": [],
   "source": [
    "# Power on motors\n",
    "\n",
    "for t in (2, 1, 0):\n",
    "    gimbal.send(fyproto.Packet(target=t, command=3, data=bytes([1])))\n",
    "\n",
    "gimbal.send(fyproto.Packet(target=2, command=8, data=bytes([0x67, 0, 1, 0])))\n",
    "gimbal.send(fyproto.Packet(target=2, command=8, data=bytes([0x08, 0, 0, 0])))\n",
    "\n",
    "    "
   ]
  },
  {
   "cell_type": "code",
   "execution_count": null,
   "metadata": {
    "collapsed": true
   },
   "outputs": [],
   "source": []
  }
 ],
 "metadata": {
  "kernelspec": {
   "display_name": "Python 3",
   "language": "python",
   "name": "python3"
  },
  "language_info": {
   "codemirror_mode": {
    "name": "ipython",
    "version": 3
   },
   "file_extension": ".py",
   "mimetype": "text/x-python",
   "name": "python",
   "nbconvert_exporter": "python",
   "pygments_lexer": "ipython3",
   "version": "3.4.2"
  }
 },
 "nbformat": 4,
 "nbformat_minor": 2
}
